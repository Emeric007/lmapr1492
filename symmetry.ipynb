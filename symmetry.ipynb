{
 "cells": [
  {
   "cell_type": "code",
   "execution_count": 31,
   "id": "ef2d99cb",
   "metadata": {},
   "outputs": [],
   "source": [
    "from pymatgen.ext.matproj import MPRester\n",
    "from pymatgen.io.cif import CifWriter\n",
    "from pymatgen.symmetry.analyzer import *\n",
    "from pymatgen.io.cif import *\n",
    "from pymatgen.core.operations import *\n",
    "from tabulate import tabulate\n",
    "from pymatgen.symmetry.site_symmetries import *\n",
    "import matplotlib.pyplot as plt\n",
    "import matplotlib.image as mpimg\n",
    "from jupyter_jsmol import JsmolView\n",
    "from ipywidgets import Layout, widgets, interact\n",
    "from pymatgen.core import Lattice, Structure"
   ]
  },
  {
   "cell_type": "code",
   "execution_count": 8,
   "id": "fe90f30b",
   "metadata": {},
   "outputs": [
    {
     "data": {
      "application/vnd.jupyter.widget-view+json": {
       "model_id": "d64e5e5b5ac54791af111617fdf03bef",
       "version_major": 2,
       "version_minor": 0
      },
      "text/plain": [
       "Retrieving MaterialsDoc documents:   0%|          | 0/1 [00:00<?, ?it/s]"
      ]
     },
     "metadata": {},
     "output_type": "display_data"
    }
   ],
   "source": [
    "with MPRester(\"CZceLJ3kGnm9d5zpfdqDbLaL8n671YIQ\") as m:\n",
    "    structure = m.get_structure_by_material_id(\"mp-961711\") "
   ]
  },
  {
   "cell_type": "code",
   "execution_count": 33,
   "id": "3c6b9c82",
   "metadata": {},
   "outputs": [],
   "source": [
    "#Operation de Symétries du fichier CIF\n",
    "sym1 = SymmOp.from_xyz_str('-y,-x,z')\n",
    "sym2 = SymmOp.from_xyz_str('-y, x-y, z')\n",
    "sym3 = SymmOp.from_xyz_str('-x+y, -x, z')\n",
    "\n",
    "#Coordonnées Atomes avant SymOp\n",
    "Si = [0, 0, 0] \n",
    "Zr = [0.5, 0, 0] \n",
    "Pt = [0.25, 0.25, 0.25] \n",
    "\n",
    "#Coordonnées Atomes après SymOp\n",
    "Si_sym = sym1.operate(Si)\n",
    "Zr_sym = sym2.operate(Zr)\n",
    "Pt_sym = sym3.operate(Pt)"
   ]
  },
  {
   "cell_type": "markdown",
   "id": "78084364",
   "metadata": {},
   "source": [
    "# Plan miroir"
   ]
  },
  {
   "cell_type": "code",
   "execution_count": 34,
   "id": "cd06a31c",
   "metadata": {},
   "outputs": [
    {
     "name": "stdout",
     "output_type": "stream",
     "text": [
      "Les coordonnées initial de l'atome de Cu sont: [1. 0. 0.]\n",
      "Apres l'opération de symmétrie, ces coordonnées sont [0. 0. 0.] \n",
      "\n",
      "L'équation de la symétrie est :  -y, -x, z\n",
      "La matrices de rotation et le vecteur de translation sont : \n",
      " Rot:\n",
      "[[ 0. -1.  0.]\n",
      " [-1.  0.  0.]\n",
      " [ 0.  0.  1.]]\n",
      "tau\n",
      "[0. 0. 0.] \n",
      "\n"
     ]
    },
    {
     "ename": "NameError",
     "evalue": "name 'struct' is not defined",
     "output_type": "error",
     "traceback": [
      "\u001b[0;31m---------------------------------------------------------------------------\u001b[0m",
      "\u001b[0;31mNameError\u001b[0m                                 Traceback (most recent call last)",
      "Cell \u001b[0;32mIn[34], line 7\u001b[0m\n\u001b[1;32m      4\u001b[0m \u001b[38;5;28mprint\u001b[39m(\u001b[38;5;124m\"\u001b[39m\u001b[38;5;124mLa matrices de rotation et le vecteur de translation sont : \u001b[39m\u001b[38;5;130;01m\\n\u001b[39;00m\u001b[38;5;124m\"\u001b[39m, sym1, \u001b[38;5;124m\"\u001b[39m\u001b[38;5;130;01m\\n\u001b[39;00m\u001b[38;5;124m\"\u001b[39m)\n\u001b[1;32m      5\u001b[0m \u001b[38;5;66;03m#Image(filename='sym1_Si.png')\u001b[39;00m\n\u001b[0;32m----> 7\u001b[0m view1 \u001b[38;5;241m=\u001b[39m JsmolView\u001b[38;5;241m.\u001b[39mfrom_str(\u001b[43mstruct\u001b[49m\u001b[38;5;241m.\u001b[39mto(\u001b[38;5;124m'\u001b[39m\u001b[38;5;124mcif\u001b[39m\u001b[38;5;124m'\u001b[39m), \u001b[38;5;124m\"\u001b[39m\u001b[38;5;124m{\u001b[39m\u001b[38;5;124m1 1 1}\u001b[39m\u001b[38;5;124m\"\u001b[39m)\n\u001b[1;32m      8\u001b[0m display(view1)\n\u001b[1;32m      9\u001b[0m view1\u001b[38;5;241m.\u001b[39mscript(\u001b[38;5;124m\"\u001b[39m\u001b[38;5;124mdraw symop 4 \u001b[39m\u001b[38;5;124m{\u001b[39m\u001b[38;5;124matomno=8}\u001b[39m\u001b[38;5;124m\"\u001b[39m)\n",
      "\u001b[0;31mNameError\u001b[0m: name 'struct' is not defined"
     ]
    }
   ],
   "source": [
    "print(\"Les coordonnées initial de l'atome de Cu sont: [1. 0. 0.]\")\n",
    "print(\"Apres l'opération de symmétrie, ces coordonnées sont\",Si_sym, \"\\n\")\n",
    "print(\"L'équation de la symétrie est : \", sym1.as_xyz_str())\n",
    "print(\"La matrices de rotation et le vecteur de translation sont : \\n\", sym1, \"\\n\")\n",
    "#Image(filename='sym1_Si.png')\n",
    "\n",
    "view1 = JsmolView.from_str(struct.to('cif'), \"{1 1 1}\")\n",
    "display(view1)\n",
    "view1.script(\"draw symop 4 {atomno=8}\")"
   ]
  },
  {
   "cell_type": "markdown",
   "id": "d0d524c7",
   "metadata": {},
   "source": [
    "# Rotation C3"
   ]
  },
  {
   "cell_type": "code",
   "execution_count": 38,
   "id": "edde583d",
   "metadata": {},
   "outputs": [
    {
     "name": "stdout",
     "output_type": "stream",
     "text": [
      "Les coordonnées initial de l'atome de Si sont: [0, 0, 0]\n",
      "Apres l'opération de symmétrie, ces coordonnées sont [0. 0. 0.] \n",
      "\n",
      "L'équation de la symétrie est :  -y, x-y, z\n",
      "Les matrices de rotation et de translation sont : \n",
      " Rot:\n",
      "[[ 0. -1.  0.]\n",
      " [ 1. -1.  0.]\n",
      " [ 0.  0.  1.]]\n",
      "tau\n",
      "[0. 0. 0.] \n",
      "\n"
     ]
    },
    {
     "ename": "NameError",
     "evalue": "name 'struct' is not defined",
     "output_type": "error",
     "traceback": [
      "\u001b[0;31m---------------------------------------------------------------------------\u001b[0m",
      "\u001b[0;31mNameError\u001b[0m                                 Traceback (most recent call last)",
      "Cell \u001b[0;32mIn[38], line 7\u001b[0m\n\u001b[1;32m      4\u001b[0m \u001b[38;5;28mprint\u001b[39m(\u001b[38;5;124m\"\u001b[39m\u001b[38;5;124mLes matrices de rotation et de translation sont : \u001b[39m\u001b[38;5;130;01m\\n\u001b[39;00m\u001b[38;5;124m\"\u001b[39m, sym2, \u001b[38;5;124m\"\u001b[39m\u001b[38;5;130;01m\\n\u001b[39;00m\u001b[38;5;124m\"\u001b[39m)\n\u001b[1;32m      5\u001b[0m \u001b[38;5;66;03m#Image(filename='sym2_Si.png')\u001b[39;00m\n\u001b[0;32m----> 7\u001b[0m view2 \u001b[38;5;241m=\u001b[39m JsmolView\u001b[38;5;241m.\u001b[39mfrom_str(\u001b[43mstruct\u001b[49m\u001b[38;5;241m.\u001b[39mto(\u001b[38;5;124m'\u001b[39m\u001b[38;5;124mcif\u001b[39m\u001b[38;5;124m'\u001b[39m), \u001b[38;5;124m\"\u001b[39m\u001b[38;5;124m{\u001b[39m\u001b[38;5;124m1 1 1}\u001b[39m\u001b[38;5;124m\"\u001b[39m)\n\u001b[1;32m      8\u001b[0m display(view2)\n\u001b[1;32m      9\u001b[0m view2\u001b[38;5;241m.\u001b[39mscript(\u001b[38;5;124m\"\u001b[39m\u001b[38;5;124mdraw symop 2 \u001b[39m\u001b[38;5;124m{\u001b[39m\u001b[38;5;124matomno=2}\u001b[39m\u001b[38;5;124m\"\u001b[39m)\n",
      "\u001b[0;31mNameError\u001b[0m: name 'struct' is not defined"
     ]
    }
   ],
   "source": [
    "print(\"Les coordonnées initial de l'atome de Si sont: [0, 0, 0]\")\n",
    "print(\"Apres l'opération de symmétrie, ces coordonnées sont\",Si_sym, \"\\n\")\n",
    "print(\"L'équation de la symétrie est : \", sym2.as_xyz_str())\n",
    "print(\"Les matrices de rotation et de translation sont : \\n\", sym2, \"\\n\")\n",
    "#Image(filename='sym2_Si.png')\n",
    "\n",
    "view2 = JsmolView.from_str(struct.to('cif'), \"{1 1 1}\")\n",
    "display(view2)\n",
    "view2.script(\"draw symop 2 {atomno=2}\")"
   ]
  },
  {
   "cell_type": "markdown",
   "id": "69aee3ef",
   "metadata": {},
   "source": [
    "# Rotation C3"
   ]
  },
  {
   "cell_type": "code",
   "execution_count": 39,
   "id": "841405cd",
   "metadata": {},
   "outputs": [
    {
     "name": "stdout",
     "output_type": "stream",
     "text": [
      "Les coordonnées initial de l'atome de Zr sont: [0.5, 0, 0] \n",
      "Apres l'opération de symmétrie, ces coordonnées sont [0.  0.5 0. ] \n",
      "\n",
      "L'équation de la symétrie est :  -x+y, -x, z\n",
      "Les matrices de rotation et de translation sont : \n",
      " Rot:\n",
      "[[-1.  1.  0.]\n",
      " [-1.  0.  0.]\n",
      " [ 0.  0.  1.]]\n",
      "tau\n",
      "[0. 0. 0.] \n",
      "\n"
     ]
    },
    {
     "ename": "NameError",
     "evalue": "name 'struct' is not defined",
     "output_type": "error",
     "traceback": [
      "\u001b[0;31m---------------------------------------------------------------------------\u001b[0m",
      "\u001b[0;31mNameError\u001b[0m                                 Traceback (most recent call last)",
      "Cell \u001b[0;32mIn[39], line 7\u001b[0m\n\u001b[1;32m      4\u001b[0m \u001b[38;5;28mprint\u001b[39m(\u001b[38;5;124m\"\u001b[39m\u001b[38;5;124mLes matrices de rotation et de translation sont : \u001b[39m\u001b[38;5;130;01m\\n\u001b[39;00m\u001b[38;5;124m\"\u001b[39m, sym3, \u001b[38;5;124m\"\u001b[39m\u001b[38;5;130;01m\\n\u001b[39;00m\u001b[38;5;124m\"\u001b[39m)\n\u001b[1;32m      5\u001b[0m \u001b[38;5;66;03m#Image(filename='sym3_Zr.png')\u001b[39;00m\n\u001b[0;32m----> 7\u001b[0m view3 \u001b[38;5;241m=\u001b[39m JsmolView\u001b[38;5;241m.\u001b[39mfrom_str(\u001b[43mstruct\u001b[49m\u001b[38;5;241m.\u001b[39mto(\u001b[38;5;124m'\u001b[39m\u001b[38;5;124mcif\u001b[39m\u001b[38;5;124m'\u001b[39m), \u001b[38;5;124m\"\u001b[39m\u001b[38;5;124m{\u001b[39m\u001b[38;5;124m1 1 1}\u001b[39m\u001b[38;5;124m\"\u001b[39m)\n\u001b[1;32m      8\u001b[0m display(view3)\n\u001b[1;32m      9\u001b[0m view3\u001b[38;5;241m.\u001b[39mscript(\u001b[38;5;124m\"\u001b[39m\u001b[38;5;124mdraw symop 3 \u001b[39m\u001b[38;5;124m{\u001b[39m\u001b[38;5;124matomno=3}\u001b[39m\u001b[38;5;124m\"\u001b[39m)\n",
      "\u001b[0;31mNameError\u001b[0m: name 'struct' is not defined"
     ]
    }
   ],
   "source": [
    "print(\"Les coordonnées initial de l'atome de Zr sont: [0.5, 0, 0] \")\n",
    "print(\"Apres l'opération de symmétrie, ces coordonnées sont\",Zr_sym, \"\\n\")\n",
    "print(\"L'équation de la symétrie est : \", sym3.as_xyz_str())\n",
    "print(\"Les matrices de rotation et de translation sont : \\n\", sym3, \"\\n\")\n",
    "#Image(filename='sym3_Zr.png')\n",
    "\n",
    "view3 = JsmolView.from_str(struct.to('cif'), \"{1 1 1}\")\n",
    "display(view3)\n",
    "view3.script(\"draw symop 3 {atomno=3}\")"
   ]
  },
  {
   "cell_type": "code",
   "execution_count": 37,
   "id": "7b0c7d83",
   "metadata": {},
   "outputs": [
    {
     "ename": "NameError",
     "evalue": "name 'view1' is not defined",
     "output_type": "error",
     "traceback": [
      "\u001b[0;31m---------------------------------------------------------------------------\u001b[0m",
      "\u001b[0;31mNameError\u001b[0m                                 Traceback (most recent call last)",
      "Cell \u001b[0;32mIn[37], line 1\u001b[0m\n\u001b[0;32m----> 1\u001b[0m \u001b[43mview1\u001b[49m\u001b[38;5;241m.\u001b[39mclose_all()\n",
      "\u001b[0;31mNameError\u001b[0m: name 'view1' is not defined"
     ]
    }
   ],
   "source": [
    "view1.close_all()"
   ]
  },
  {
   "cell_type": "code",
   "execution_count": null,
   "id": "23aea986",
   "metadata": {},
   "outputs": [],
   "source": []
  }
 ],
 "metadata": {
  "kernelspec": {
   "display_name": "Python 3 (ipykernel)",
   "language": "python",
   "name": "python3"
  },
  "language_info": {
   "codemirror_mode": {
    "name": "ipython",
    "version": 3
   },
   "file_extension": ".py",
   "mimetype": "text/x-python",
   "name": "python",
   "nbconvert_exporter": "python",
   "pygments_lexer": "ipython3",
   "version": "3.9.13"
  }
 },
 "nbformat": 4,
 "nbformat_minor": 5
}
