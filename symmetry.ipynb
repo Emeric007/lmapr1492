{
 "cells": [
  {
   "cell_type": "code",
   "execution_count": 2,
   "id": "6ea5437d",
   "metadata": {},
   "outputs": [],
   "source": [
    "import numpy as np\n",
    "from mp_api.client import MPRester\n",
    "from pymatgen.core.operations import SymmOp\n",
    "from pymatgen.symmetry.analyzer import SpacegroupAnalyzer\n",
    "from pymatgen.electronic_structure.plotter import BSPlotter\n",
    "from pymatgen.phonon.plotter import PhononBSPlotter\n",
    "from jupyter_jsmol.pymatgen import quick_view\n",
    "from plotly.subplots import make_subplots\n",
    "import plotly.graph_objects as go"
   ]
  },
  {
   "cell_type": "code",
   "execution_count": 3,
   "id": "540a18a2",
   "metadata": {},
   "outputs": [],
   "source": [
    "mp_key = \"CZceLJ3kGnm9d5zpfdqDbLaL8n671YIQ\"\n",
    "mp_id = \"mp-961711\""
   ]
  },
  {
   "cell_type": "code",
   "execution_count": 4,
   "id": "f00dced5",
   "metadata": {},
   "outputs": [
    {
     "data": {
      "application/vnd.jupyter.widget-view+json": {
       "model_id": "d970edae9ec74436a0b23d8fdb7ab41b",
       "version_major": 2,
       "version_minor": 0
      },
      "text/plain": [
       "Retrieving MaterialsDoc documents:   0%|          | 0/1 [00:00<?, ?it/s]"
      ]
     },
     "metadata": {},
     "output_type": "display_data"
    }
   ],
   "source": [
    "with MPRester(mp_key) as m:\n",
    "    prim_struc = m.get_structure_by_material_id(mp_id)\n",
    "conv_struc = SpacegroupAnalyzer(prim_struc).get_conventional_standard_structure()\n",
    "symmops = SpacegroupAnalyzer(conv_struc).get_space_group_operations()"
   ]
  },
  {
   "cell_type": "code",
   "execution_count": 47,
   "id": "ddcb60c0",
   "metadata": {
    "scrolled": true
   },
   "outputs": [
    {
     "data": {
      "application/vnd.jupyter.widget-view+json": {
       "model_id": "d489f6e9fba940b69604a1d70925f785",
       "version_major": 2,
       "version_minor": 0
      },
      "text/plain": [
       "JsmolView(layout=Layout(align_self='stretch', height='400px'))"
      ]
     },
     "metadata": {},
     "output_type": "display_data"
    }
   ],
   "source": [
    "view = quick_view(conv_struc)\n",
    "display(view)"
   ]
  },
  {
   "cell_type": "code",
   "execution_count": 48,
   "id": "15d58f94",
   "metadata": {},
   "outputs": [],
   "source": [
    "sym = SpacegroupAnalyzer(conv_struc).get_symmetry_operations()\n",
    "\n",
    "#Atomes sélectionnés\n",
    "Zr = [0.5,0,0]\n",
    "Si = [1,0,1]\n",
    "Pt = [0.75,0.75,0.25]\n",
    "\n",
    "\n",
    "\n",
    "S1 = sym[1]\n",
    "S2 = sym[6]\n",
    "S3 = sym[9]\n",
    "\n",
    "\n",
    "Zr_sym = S1.operate(Zr)\n",
    "Si_sym = S2.operate(Si)\n",
    "Pt_sym = S3.operate(Pt)"
   ]
  },
  {
   "cell_type": "code",
   "execution_count": 52,
   "id": "e8ce9949",
   "metadata": {
    "scrolled": true
   },
   "outputs": [
    {
     "name": "stdout",
     "output_type": "stream",
     "text": [
      "L'atome de départ a comme coordonnées: [0.5, 0, 0]\n",
      "\n",
      "L'opération est une symétrie centrale par rapport au point origine. \n",
      "\n",
      "Rot:\n",
      "[[ 0.  1.  0.]\n",
      " [-1.  0.  0.]\n",
      " [ 0.  0. -1.]]\n",
      "tau\n",
      "[0. 0. 0.] \n",
      "\n",
      "L'opération se calcule donc de la façon suivante : \n",
      "\n",
      "[[ 0.  1.  0.]\n",
      " [-1.  0.  0.]\n",
      " [ 0.  0. -1.]] * [0.5, 0, 0] + [0. 0. 0.] \n",
      "\n",
      "L'atome d'arrivé a comme coordonnées : [ 0.  -0.5  0. ]\n",
      "\n"
     ]
    },
    {
     "data": {
      "application/vnd.jupyter.widget-view+json": {
       "model_id": "5e7b85d4d875480587942df616963215",
       "version_major": 2,
       "version_minor": 0
      },
      "text/plain": [
       "JsmolView(layout=Layout(align_self='stretch', height='400px'))"
      ]
     },
     "metadata": {},
     "output_type": "display_data"
    }
   ],
   "source": [
    "print(\"L'atome de départ a comme coordonnées: {}\\n\".format(Zr))\n",
    "\n",
    "print(\"L'opération est une symétrie centrale par rapport au point origine. \\n\")\n",
    "print(S1, \"\\n\")\n",
    "\n",
    "print(\"L'opération se calcule donc de la façon suivante : \\n\")\n",
    "print(S1.rotation_matrix, \"*\", Zr, '+', S1.translation_vector, \"\\n\")\n",
    "\n",
    "print(\"L'atome d'arrivé a comme coordonnées : {}\\n\".format(Zr_sym))\n",
    "\n",
    "#Représentation selon jupyter-jsmol\n",
    "view = quick_view(conv_struc,supercell=[1,1,1])\n",
    "display(view)\n",
    "view.script('draw symop 2 {atomno = 4}; select atomno=4; label on; color red')"
   ]
  },
  {
   "cell_type": "code",
   "execution_count": 53,
   "id": "0524f31f",
   "metadata": {},
   "outputs": [
    {
     "name": "stdout",
     "output_type": "stream",
     "text": [
      "L'atome de départ a comme coordonnées: [1, 0, 1]\n",
      "\n",
      "L'opération est une rotation de 90 degrés dans le plan xy. \n",
      "\n",
      "Rot:\n",
      "[[-1.  0.  0.]\n",
      " [ 0.  1.  0.]\n",
      " [ 0.  0. -1.]]\n",
      "tau\n",
      "[0. 0. 0.] \n",
      "\n",
      "L'opération se calcule donc de la façon suivante : \n",
      "\n",
      "[[-1.  0.  0.]\n",
      " [ 0.  1.  0.]\n",
      " [ 0.  0. -1.]] * [1, 0, 1] + [0. 0. 0.] \n",
      "\n",
      "L'atome d'arrivé a comme coordonnées : [-1.  0. -1.]\n",
      "\n"
     ]
    },
    {
     "data": {
      "application/vnd.jupyter.widget-view+json": {
       "model_id": "d4a199f0cc4c4dd2867b854d2c4616b3",
       "version_major": 2,
       "version_minor": 0
      },
      "text/plain": [
       "JsmolView(layout=Layout(align_self='stretch', height='400px'))"
      ]
     },
     "metadata": {},
     "output_type": "display_data"
    }
   ],
   "source": [
    "print(\"L'atome de départ a comme coordonnées: {}\\n\".format(Si))\n",
    "\n",
    "print(\"L'opération est une rotation de 90 degrés dans le plan xy. \\n\")\n",
    "print(S2, \"\\n\")\n",
    "\n",
    "print(\"L'opération se calcule donc de la façon suivante : \\n\")\n",
    "\n",
    "\n",
    "print(S2.rotation_matrix, \"*\", Si, '+', S2.translation_vector, \"\\n\")\n",
    "\n",
    "print(\"L'atome d'arrivé a comme coordonnées : {}\\n\".format(Si_sym))\n",
    "\n",
    "#Représentation selon jupyter-jsmol\n",
    "view = quick_view(conv_struc,supercell=[1,1,1])\n",
    "display(view)\n",
    "view.script('draw symop 7 {atomno = 1}; select atomno=1; label on; color red')"
   ]
  },
  {
   "cell_type": "code",
   "execution_count": 55,
   "id": "eb1b88c7",
   "metadata": {},
   "outputs": [
    {
     "name": "stdout",
     "output_type": "stream",
     "text": [
      "L'atome de départ a comme coordonnées: [0.75, 0.75, 0.25]\n",
      "\n",
      "L'opération est une symétrie miroir par rapport au plan yz. \n",
      "\n",
      "Rot:\n",
      "[[ 0.  0. -1.]\n",
      " [ 0.  1.  0.]\n",
      " [-1.  0.  0.]]\n",
      "tau\n",
      "[0. 0. 0.] \n",
      "\n",
      "L'opération se calcule donc de la façon suivante : \n",
      "\n",
      "[[ 0.  0. -1.]\n",
      " [ 0.  1.  0.]\n",
      " [-1.  0.  0.]] * [0.75, 0.75, 0.25] + [0. 0. 0.] \n",
      "\n",
      "L'atome d'arrivé a comme coordonnées : [-0.25  0.75 -0.75]\n",
      "\n"
     ]
    },
    {
     "data": {
      "application/vnd.jupyter.widget-view+json": {
       "model_id": "62aba27bdd0d4faca9da0f1b7e39ec7d",
       "version_major": 2,
       "version_minor": 0
      },
      "text/plain": [
       "JsmolView(layout=Layout(align_self='stretch', height='400px'))"
      ]
     },
     "metadata": {},
     "output_type": "display_data"
    }
   ],
   "source": [
    "print(\"L'atome de départ a comme coordonnées: {}\\n\".format(Pt))\n",
    "\n",
    "print(\"L'opération est une symétrie miroir par rapport au plan yz. \\n\")\n",
    "print(S3, \"\\n\")\n",
    "\n",
    "print(\"L'opération se calcule donc de la façon suivante : \\n\")\n",
    "\n",
    "print(S3.rotation_matrix, \"*\", Pt, '+', S3.translation_vector, \"\\n\")\n",
    "\n",
    "print(\"L'atome d'arrivé a comme coordonnées : {}\\n\".format(Pt_sym))\n",
    "\n",
    "#Représentation selon jupyter-jsmol\n",
    "view = quick_view(conv_struc,supercell=[1,1,1])\n",
    "display(view)\n",
    "view.script('draw symop 10 {atomno = 22}; select atomno=22; label on; color red')"
   ]
  },
  {
   "cell_type": "raw",
   "id": "346b1cb0",
   "metadata": {},
   "source": [
    "Je n'ai pas bien réussi à représenté les différentes symétries pour mon matériaux j'ai quand même laissé les différentes représentations de Jsmol même si elle me semble peut pertinente."
   ]
  }
 ],
 "metadata": {
  "kernelspec": {
   "display_name": "Python 3 (ipykernel)",
   "language": "python",
   "name": "python3"
  },
  "language_info": {
   "codemirror_mode": {
    "name": "ipython",
    "version": 3
   },
   "file_extension": ".py",
   "mimetype": "text/x-python",
   "name": "python",
   "nbconvert_exporter": "python",
   "pygments_lexer": "ipython3",
   "version": "3.9.13"
  }
 },
 "nbformat": 4,
 "nbformat_minor": 5
}
